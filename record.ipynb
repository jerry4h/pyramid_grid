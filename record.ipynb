{
 "cells": [
  {
   "cell_type": "markdown",
   "id": "99ec6160-ee5e-47e3-a561-d6585ebbed75",
   "metadata": {},
   "source": [
    "## zz1000\n",
    "\n",
    "\n",
    "20221223 buy 2.460 600"
   ]
  },
  {
   "cell_type": "markdown",
   "id": "87cb8b18-0f50-4e75-b796-cf16f9fd5334",
   "metadata": {
    "tags": []
   },
   "source": [
    "## kc50\n",
    "\n",
    "20221223 buy 0.965 1200"
   ]
  },
  {
   "cell_type": "markdown",
   "id": "5a75c883-2536-471f-870f-ea83ec0bac11",
   "metadata": {},
   "source": [
    "## gqhl\n",
    "\n",
    "20221222 buy 1.905 1700"
   ]
  },
  {
   "cell_type": "markdown",
   "id": "86da9b66-d997-46f2-a6df-162422222c36",
   "metadata": {},
   "source": [
    "## jyyh\n",
    "\n",
    "20221222 buy 3.91 900"
   ]
  },
  {
   "cell_type": "markdown",
   "id": "2415bff6-21bd-4e4f-bce1-ebfbfa6a1c74",
   "metadata": {},
   "source": [
    "## wxyh\n",
    "\n",
    "20221222 5.05 900"
   ]
  },
  {
   "cell_type": "markdown",
   "id": "5094ac4c-68e5-4222-b8b3-3ddde10da685",
   "metadata": {},
   "source": [
    "## yyetf\n",
    "\n",
    "20221222 buy 0.458 2500"
   ]
  }
 ],
 "metadata": {
  "kernelspec": {
   "display_name": "Python 3 (ipykernel)",
   "language": "python",
   "name": "python3"
  },
  "language_info": {
   "codemirror_mode": {
    "name": "ipython",
    "version": 3
   },
   "file_extension": ".py",
   "mimetype": "text/x-python",
   "name": "python",
   "nbconvert_exporter": "python",
   "pygments_lexer": "ipython3",
   "version": "3.9.13"
  }
 },
 "nbformat": 4,
 "nbformat_minor": 5
}
