{
 "cells": [
  {
   "cell_type": "markdown",
   "id": "9fbcbd0a-045d-41de-9d62-2dc0ccb18156",
   "metadata": {},
   "source": [
    "# Features\n",
    "\n",
    "## 1. long-term position control\n",
    "## 2. B/S number per trade\n",
    "## 3. KDJ risk control\n",
    "## 4. trade log"
   ]
  },
  {
   "cell_type": "code",
   "execution_count": 1,
   "id": "940cc9f0-5b31-47a2-a6c7-86fcc0c6148b",
   "metadata": {},
   "outputs": [],
   "source": [
    "import pandas as pd\n",
    "import matplotlib.pyplot as plt\n",
    "from main import Choice"
   ]
  },
  {
   "cell_type": "code",
   "execution_count": 2,
   "id": "d7a4198d-1cc8-49d3-9948-6c1f4de5001b",
   "metadata": {},
   "outputs": [
    {
     "name": "stdout",
     "output_type": "stream",
     "text": [
      "512100.SH: buy_price_position\n",
      "\tprice: 3.247, position: 0.000\n",
      "\tprice: 2.777, position: 0.100\n",
      "\tprice: 2.496, position: 0.300\n",
      "\tprice: 2.256, position: 0.600\n",
      "\tprice: 2.052, position: 1.000\n",
      "512100.SH: sell_price_position\n",
      "\tprice: 3.334, position: 0.000\n",
      "\tprice: 2.928, position: 0.400\n",
      "\tprice: 2.590, position: 0.700\n",
      "\tprice: 2.308, position: 0.900\n",
      "\tprice: 2.073, position: 1.000\n",
      "588000.SH: buy_price_position\n",
      "\tprice: 1.696, position: 0.000\n",
      "\tprice: 1.357, position: 0.100\n",
      "\tprice: 1.153, position: 0.300\n",
      "\tprice: 0.980, position: 0.600\n",
      "\tprice: 0.833, position: 1.000\n",
      "588000.SH: sell_price_position\n",
      "\tprice: 1.759, position: 0.000\n",
      "\tprice: 1.465, position: 0.400\n",
      "\tprice: 1.221, position: 0.700\n",
      "\tprice: 1.018, position: 0.900\n",
      "\tprice: 0.848, position: 1.000\n",
      "501059.SH: buy_price_position\n",
      "\tprice: 2.215, position: 0.000\n",
      "\tprice: 2.057, position: 0.100\n",
      "\tprice: 1.962, position: 0.300\n",
      "\tprice: 1.882, position: 0.600\n",
      "\tprice: 1.813, position: 1.000\n",
      "501059.SH: sell_price_position\n",
      "\tprice: 2.244, position: 0.000\n",
      "\tprice: 2.108, position: 0.400\n",
      "\tprice: 1.994, position: 0.700\n",
      "\tprice: 1.899, position: 0.900\n",
      "\tprice: 1.820, position: 1.000\n",
      "512010.SH: buy_price_position\n",
      "\tprice: 0.907, position: 0.000\n",
      "\tprice: 0.726, position: 0.100\n",
      "\tprice: 0.617, position: 0.300\n",
      "\tprice: 0.525, position: 0.600\n",
      "\tprice: 0.446, position: 1.000\n",
      "512010.SH: sell_price_position\n",
      "\tprice: 0.941, position: 0.000\n",
      "\tprice: 0.784, position: 0.400\n",
      "\tprice: 0.653, position: 0.700\n",
      "\tprice: 0.545, position: 0.900\n",
      "\tprice: 0.454, position: 1.000\n",
      "515790.SH: buy_price_position\n",
      "\tprice: 1.925, position: 0.000\n",
      "\tprice: 1.571, position: 0.100\n",
      "\tprice: 1.359, position: 0.300\n",
      "\tprice: 1.178, position: 0.600\n",
      "\tprice: 1.024, position: 1.000\n",
      "515790.SH: sell_price_position\n",
      "\tprice: 1.990, position: 0.000\n",
      "\tprice: 1.684, position: 0.400\n",
      "\tprice: 1.429, position: 0.700\n",
      "\tprice: 1.217, position: 0.900\n",
      "\tprice: 1.040, position: 1.000\n",
      "002807.SZ: buy_price_position\n",
      "\tprice: 5.380, position: 0.000\n",
      "\tprice: 4.696, position: 0.100\n",
      "\tprice: 4.286, position: 0.300\n",
      "\tprice: 3.937, position: 0.600\n",
      "\tprice: 3.639, position: 1.000\n",
      "002807.SZ: sell_price_position\n",
      "\tprice: 5.507, position: 0.000\n",
      "\tprice: 4.915, position: 0.400\n",
      "\tprice: 4.422, position: 0.700\n",
      "\tprice: 4.012, position: 0.900\n",
      "\tprice: 3.670, position: 1.000\n",
      "600908.SH: buy_price_position\n",
      "\tprice: 7.060, position: 0.000\n",
      "\tprice: 6.156, position: 0.100\n",
      "\tprice: 5.614, position: 0.300\n",
      "\tprice: 5.153, position: 0.600\n",
      "\tprice: 4.759, position: 1.000\n",
      "600908.SH: sell_price_position\n",
      "\tprice: 7.227, position: 0.000\n",
      "\tprice: 6.445, position: 0.400\n",
      "\tprice: 5.794, position: 0.700\n",
      "\tprice: 5.252, position: 0.900\n",
      "\tprice: 4.800, position: 1.000\n",
      "600926.SH: buy_price_position\n",
      "\tprice: 16.430, position: 0.000\n",
      "\tprice: 13.410, position: 0.100\n",
      "\tprice: 11.598, position: 0.300\n",
      "\tprice: 10.058, position: 0.600\n",
      "\tprice: 8.744, position: 1.000\n",
      "600926.SH: sell_price_position\n",
      "\tprice: 16.989, position: 0.000\n",
      "\tprice: 14.376, position: 0.400\n",
      "\tprice: 12.202, position: 0.700\n",
      "\tprice: 10.390, position: 0.900\n",
      "\tprice: 8.880, position: 1.000\n",
      "603323.SH: buy_price_position\n",
      "\tprice: 6.770, position: 0.000\n",
      "\tprice: 5.826, position: 0.100\n",
      "\tprice: 5.260, position: 0.300\n",
      "\tprice: 4.778, position: 0.600\n",
      "\tprice: 4.368, position: 1.000\n",
      "603323.SH: sell_price_position\n",
      "\tprice: 6.945, position: 0.000\n",
      "\tprice: 6.128, position: 0.400\n",
      "\tprice: 5.448, position: 0.700\n",
      "\tprice: 4.882, position: 0.900\n",
      "\tprice: 4.410, position: 1.000\n"
     ]
    }
   ],
   "source": [
    "\n",
    "choices = []\n",
    "\n",
    "# 宽基指数\n",
    "zz1000 = Choice(p_min=2.073, p_max=3.247, pos_max=20000,\n",
    "                price=2.708, d_month=59, d_week=63, code=\"512100.SH\")\n",
    "kc50   = Choice(p_min=0.848, p_max=1.696, pos_max=50000,\n",
    "                price=1.164, d_month=45, d_week=78, code=\"588000.SH\")\n",
    "gqhl   = Choice(p_min=1.820, p_max=2.215, pos_max=30000,\n",
    "                price=1.998, d_month=54, d_week=43, code=\"501059.SH\")\n",
    "choices.append(zz1000)\n",
    "choices.append(kc50)\n",
    "choices.append(gqhl)\n",
    "\n",
    "# 行业指数\n",
    "yyetf  = Choice(p_min=0.454, p_max=0.907, pos_max=100000,\n",
    "                price=0.464, d_month=36, d_week=33, code=\"512010.SH\")\n",
    "gfetf  = Choice(p_min=1.040, p_max=1.925, pos_max=30000,\n",
    "                price=1.279, d_month=38, d_week=26, code=\"515790.SH\")\n",
    "choices.append(yyetf)\n",
    "choices.append(gfetf)\n",
    "\n",
    "# 转债银行\n",
    "jyyh   = Choice(p_min=3.67, p_max=5.38, pos_max=13000,\n",
    "                price=4.07, d_month=38, d_week=27, code=\"002807.SZ\")\n",
    "wxyh   = Choice(p_min=4.80, p_max=7.06, pos_max=10000,\n",
    "                price=5.58, d_month=49, d_week=33, code=\"600908.SH\")\n",
    "hzyh   = Choice(p_min=8.88, p_max=16.43, pos_max=4000,\n",
    "                price=11.87, d_month=28, d_week=30, code=\"600926.SH\")\n",
    "snyh   = Choice(p_min=4.41, p_max=6.77, pos_max=8000,\n",
    "                price=4.73, d_month=34, d_week=28, code=\"603323.SH\")\n",
    "choices.append(jyyh)\n",
    "choices.append(wxyh)\n",
    "choices.append(hzyh)\n",
    "choices.append(snyh)"
   ]
  },
  {
   "cell_type": "markdown",
   "id": "b409c37c-0afb-4953-9af6-65665ff2ab2e",
   "metadata": {},
   "source": [
    "## 1. long-term position control"
   ]
  },
  {
   "cell_type": "code",
   "execution_count": 3,
   "id": "0369a365-9657-4cb4-9cd4-0186f6ced51d",
   "metadata": {},
   "outputs": [
    {
     "name": "stdout",
     "output_type": "stream",
     "text": [
      "512100.SH: price: 2.708,\n",
      "\tlong position: 0.149, 2985\n",
      "\tshort position: 0.595, 11898\n",
      "588000.SH: price: 1.164,\n",
      "\tlong position: 0.289, 14473\n",
      "\tshort position: 0.756, 37807\n",
      "501059.SH: price: 1.998,\n",
      "\tlong position: 0.224, 6734\n",
      "\tshort position: 0.689, 20668\n",
      "512010.SH: price: 0.464,\n",
      "\tlong position: 0.908, 90787\n",
      "\tshort position: 0.989, 98896\n",
      "515790.SH: price: 1.279,\n",
      "\tlong position: 0.432, 12968\n",
      "\tshort position: 0.842, 25249\n",
      "002807.SZ: price: 4.070,\n",
      "\tlong position: 0.485, 6310\n",
      "\tshort position: 0.872, 11333\n",
      "600908.SH: price: 5.580,\n",
      "\tlong position: 0.322, 3219\n",
      "\tshort position: 0.779, 7791\n",
      "600926.SH: price: 11.870,\n",
      "\tlong position: 0.270, 1080\n",
      "\tshort position: 0.737, 2947\n",
      "603323.SH: price: 4.730,\n",
      "\tlong position: 0.647, 5175\n",
      "\tshort position: 0.932, 7458\n"
     ]
    }
   ],
   "source": [
    "for choice in choices:\n",
    "    long_pos = choice.cal_position(choice.price, True)\n",
    "    short_pos = choice.cal_position(choice.price, False)\n",
    "    print(f\"{choice.code}: price: {choice.price:.3f},\"\n",
    "          f\"\\n\\tlong position: {long_pos:.3f}, {long_pos * choice.pos_max:.0f}\"\n",
    "          f\"\\n\\tshort position: {short_pos:.3f}, {short_pos * choice.pos_max:.0f}\")\n"
   ]
  },
  {
   "cell_type": "markdown",
   "id": "dbe167a7-85a7-48f0-bad1-5f96965e49bf",
   "metadata": {},
   "source": [
    "## 2. buy/sell number per trade\n",
    "\n",
    "#### 1. standard situation\n",
    "set 1/40=2.5%\n",
    "\n",
    "if trade while 3% decrease with 1/40 = 2.5% position, \n",
    "from top 100% price to bottom 50% price, we should trade about 23 times(0.97^23=0.51), we get 23*2.5% = 57.5% position\n",
    "\n",
    "that seems ok because KDJ will hint us and the buy diff will decrease from 3% to 1%.\n",
    "\n",
    "if trade every 1%, trade will happen about 68 times(0.99^68=0.50)\n",
    "\n",
    "#### 2. scaled situation\n",
    "set 1/40*scale=2.5%*scale, scale=ln(0.5)/ln(bottom_price)\n",
    "\n",
    "from top 100% price to bottom 68% price, 3% diff will trade about 13 times($0.97^{13}=0.67$), we get $13*2.5% = 32.5%$ position; 1% diff will trade about 38 times($0.99^38=0.68$), we get $38*2.5%=95.0%$ position.\n",
    "\n",
    "price range decreased $64%=(1-0.68)/(1-0.5)$\n",
    "trade number decreased $43%=(23-13)/23$ and $44%=(68-38)/68$\n",
    "\n",
    "To get similar position, we should trade more: \n",
    "trade number should increased: $77%=(23-13)/13$ and $79%=(68-38)/38$\n",
    "\n",
    "summerize the theoretical formula:\n",
    "- $0.97^{times_{standard}} = 0.5$\n",
    "- $0.97^times_scaled   = bottom_price$\n",
    "- $scale = times_standard / times_scaled$\n",
    "\n",
    "so, we get:\n",
    "- $ln(0.97) * times_standard = ln(0.5)$\n",
    "- $ln(0.97) * times_scaled   = ln(bottom_price)$\n",
    "- $scale = ln(0.5) / ln(bottom_price)$\n",
    "\n",
    "for bottom_price = 0.68, $scale = ln(0.5) / ln(0.68) = 1.80$, consistent with the above calculation 77% and 79%."
   ]
  },
  {
   "cell_type": "code",
   "execution_count": 4,
   "id": "5ea02732-fc29-4eb8-9eac-23acf6887fad",
   "metadata": {},
   "outputs": [
    {
     "name": "stdout",
     "output_type": "stream",
     "text": [
      "512100.SH: number_per_trade: 772\n",
      "588000.SH: number_per_trade: 1250\n",
      "501059.SH: number_per_trade: 2647\n",
      "512010.SH: number_per_trade: 2504\n",
      "515790.SH: number_per_trade: 844\n",
      "002807.SZ: number_per_trade: 589\n",
      "600908.SH: number_per_trade: 449\n",
      "600926.SH: number_per_trade: 113\n",
      "603323.SH: number_per_trade: 323\n"
     ]
    }
   ],
   "source": [
    "for choice in choices:\n",
    "    num_per_trade = choice.cal_pos_number_per_trade()\n",
    "    print(f\"{choice.code}: number_per_trade: {num_per_trade:.0f}\")"
   ]
  },
  {
   "cell_type": "markdown",
   "id": "dff064d4-bc9c-4db6-b68b-5b0827058e94",
   "metadata": {},
   "source": [
    "## 3. KDJ risk control"
   ]
  },
  {
   "cell_type": "code",
   "execution_count": 5,
   "id": "dc15f96f-67a6-4e9e-acdb-8d74adb60bd0",
   "metadata": {},
   "outputs": [
    {
     "name": "stdout",
     "output_type": "stream",
     "text": [
      "512100.SH: price: 2.708,\n",
      "\trisk level: 风险平衡\n",
      "\tbuy sell contrast and diff: (0.03, 0.03, 0.03, 0.03)\n",
      "588000.SH: price: 1.164,\n",
      "\trisk level: 很大风险\n",
      "\tbuy sell contrast and diff: (0.04, 0.03, 0.03, 0.025)\n",
      "501059.SH: price: 1.998,\n",
      "\trisk level: 风险平衡\n",
      "\tbuy sell contrast and diff: (0.03, 0.03, 0.03, 0.03)\n",
      "512010.SH: price: 0.464,\n",
      "\trisk level: 风险平衡\n",
      "\tbuy sell contrast and diff: (0.03, 0.03, 0.03, 0.03)\n",
      "515790.SH: price: 1.279,\n",
      "\trisk level: 风险平衡\n",
      "\tbuy sell contrast and diff: (0.03, 0.03, 0.03, 0.03)\n",
      "002807.SZ: price: 4.070,\n",
      "\trisk level: 风险平衡\n",
      "\tbuy sell contrast and diff: (0.03, 0.03, 0.03, 0.03)\n",
      "600908.SH: price: 5.580,\n",
      "\trisk level: 风险平衡\n",
      "\tbuy sell contrast and diff: (0.03, 0.03, 0.03, 0.03)\n",
      "600926.SH: price: 11.870,\n",
      "\trisk level: 很大机会\n",
      "\tbuy sell contrast and diff: (0.03, 0.02, 0.04, 0.03)\n",
      "603323.SH: price: 4.730,\n",
      "\trisk level: 风险平衡\n",
      "\tbuy sell contrast and diff: (0.03, 0.03, 0.03, 0.03)\n"
     ]
    }
   ],
   "source": [
    "for choice in choices:\n",
    "    risk_density = choice.cal_risk_and_grid_density(choice.d_month, choice.d_week)\n",
    "    print(f\"{choice.code}: price: {choice.price:.3f},\\n\\t\"\n",
    "          f\"risk level: {risk_density[0]}\\n\\t\"\n",
    "          f\"buy sell contrast and diff: {risk_density[1:]}\")"
   ]
  },
  {
   "cell_type": "markdown",
   "id": "b78d91bc-7b9c-4df4-823b-01e0fbaac5b2",
   "metadata": {},
   "source": [
    "## 4. trade log\n",
    "\n",
    "- add a trade transaction\n",
    "- load from csv log\n",
    "- save to csv log\n"
   ]
  },
  {
   "cell_type": "code",
   "execution_count": null,
   "id": "6bc12f48-cd46-49f9-a1dc-3b5a69d935f3",
   "metadata": {},
   "outputs": [],
   "source": []
  }
 ],
 "metadata": {
  "kernelspec": {
   "display_name": "Python 3 (ipykernel)",
   "language": "python",
   "name": "python3"
  },
  "language_info": {
   "codemirror_mode": {
    "name": "ipython",
    "version": 3
   },
   "file_extension": ".py",
   "mimetype": "text/x-python",
   "name": "python",
   "nbconvert_exporter": "python",
   "pygments_lexer": "ipython3",
   "version": "3.9.13"
  },
  "vscode": {
   "interpreter": {
    "hash": "610a6f344c2137faf927ea819c63f6cee33a2c04455044b28099f39fe9722347"
   }
  }
 },
 "nbformat": 4,
 "nbformat_minor": 5
}
