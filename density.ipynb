{
 "cells": [
  {
   "cell_type": "code",
   "execution_count": 1,
   "id": "c5d971dc-5769-4d03-ac0a-1a05b0525106",
   "metadata": {},
   "outputs": [],
   "source": [
    "import pandas as pd\n",
    "import matplotlib.pyplot as plt\n",
    "from main import Choice"
   ]
  },
  {
   "cell_type": "code",
   "execution_count": 2,
   "id": "d7a4198d-1cc8-49d3-9948-6c1f4de5001b",
   "metadata": {},
   "outputs": [
    {
     "name": "stdout",
     "output_type": "stream",
     "text": [
      "512100.SH: buy_price_position\n",
      "\tprice: 3.247, position: 0.000\n",
      "\tprice: 2.777, position: 0.100\n",
      "\tprice: 2.496, position: 0.300\n",
      "\tprice: 2.256, position: 0.600\n",
      "\tprice: 2.052, position: 1.000\n",
      "512100.SH: sell_price_position\n",
      "\tprice: 3.334, position: 0.000\n",
      "\tprice: 2.928, position: 0.400\n",
      "\tprice: 2.590, position: 0.700\n",
      "\tprice: 2.308, position: 0.900\n",
      "\tprice: 2.073, position: 1.000\n",
      "588000.SH: buy_price_position\n",
      "\tprice: 1.696, position: 0.000\n",
      "\tprice: 1.357, position: 0.100\n",
      "\tprice: 1.153, position: 0.300\n",
      "\tprice: 0.980, position: 0.600\n",
      "\tprice: 0.833, position: 1.000\n",
      "588000.SH: sell_price_position\n",
      "\tprice: 1.759, position: 0.000\n",
      "\tprice: 1.465, position: 0.400\n",
      "\tprice: 1.221, position: 0.700\n",
      "\tprice: 1.018, position: 0.900\n",
      "\tprice: 0.848, position: 1.000\n",
      "501059.SH: buy_price_position\n",
      "\tprice: 2.215, position: 0.000\n",
      "\tprice: 2.057, position: 0.100\n",
      "\tprice: 1.962, position: 0.300\n",
      "\tprice: 1.882, position: 0.600\n",
      "\tprice: 1.813, position: 1.000\n",
      "501059.SH: sell_price_position\n",
      "\tprice: 2.244, position: 0.000\n",
      "\tprice: 2.108, position: 0.400\n",
      "\tprice: 1.994, position: 0.700\n",
      "\tprice: 1.899, position: 0.900\n",
      "\tprice: 1.820, position: 1.000\n",
      "002807.SZ: buy_price_position\n",
      "\tprice: 5.380, position: 0.000\n",
      "\tprice: 4.696, position: 0.100\n",
      "\tprice: 4.286, position: 0.300\n",
      "\tprice: 3.937, position: 0.600\n",
      "\tprice: 3.639, position: 1.000\n",
      "002807.SZ: sell_price_position\n",
      "\tprice: 5.507, position: 0.000\n",
      "\tprice: 4.915, position: 0.400\n",
      "\tprice: 4.422, position: 0.700\n",
      "\tprice: 4.012, position: 0.900\n",
      "\tprice: 3.670, position: 1.000\n",
      "600908.SH: buy_price_position\n",
      "\tprice: 7.060, position: 0.000\n",
      "\tprice: 6.156, position: 0.100\n",
      "\tprice: 5.614, position: 0.300\n",
      "\tprice: 5.153, position: 0.600\n",
      "\tprice: 4.759, position: 1.000\n",
      "600908.SH: sell_price_position\n",
      "\tprice: 7.227, position: 0.000\n",
      "\tprice: 6.445, position: 0.400\n",
      "\tprice: 5.794, position: 0.700\n",
      "\tprice: 5.252, position: 0.900\n",
      "\tprice: 4.800, position: 1.000\n",
      "512010.SH: buy_price_position\n",
      "\tprice: 0.907, position: 0.000\n",
      "\tprice: 0.726, position: 0.100\n",
      "\tprice: 0.617, position: 0.300\n",
      "\tprice: 0.525, position: 0.600\n",
      "\tprice: 0.446, position: 1.000\n",
      "512010.SH: sell_price_position\n",
      "\tprice: 0.941, position: 0.000\n",
      "\tprice: 0.784, position: 0.400\n",
      "\tprice: 0.653, position: 0.700\n",
      "\tprice: 0.545, position: 0.900\n",
      "\tprice: 0.454, position: 1.000\n"
     ]
    }
   ],
   "source": [
    "zz1000 = Choice(2.073, 3.247, 20000, \"512100.SH\")\n",
    "kc50 = Choice(0.848, 1.696, 50000, \"588000.SH\")\n",
    "gqhl = Choice(1.820, 2.215, 30000, \"501059.SH\")\n",
    "jyyh = Choice(3.67, 5.38, 13000, \"002807.SZ\")\n",
    "wxyh = Choice(4.80, 7.06, 10000, \"600908.SH\")\n",
    "yyetf = Choice(0.454, 0.907, 100000, \"512010.SH\")"
   ]
  },
  {
   "cell_type": "markdown",
   "id": "b409c37c-0afb-4953-9af6-65665ff2ab2e",
   "metadata": {},
   "source": [
    "## long-term position control"
   ]
  },
  {
   "cell_type": "code",
   "execution_count": 3,
   "id": "0369a365-9657-4cb4-9cd4-0186f6ced51d",
   "metadata": {},
   "outputs": [
    {
     "name": "stdout",
     "output_type": "stream",
     "text": [
      "512100.SH: price: 2.507,\n",
      "\tlong position: 0.292, 5839\n",
      "\tshort position: 0.759, 15172\n",
      "588000.SH: price: 1.003,\n",
      "\tlong position: 0.561, 28031\n",
      "\tshort position: 0.909, 45430\n",
      "501059.SH: price: 1.895,\n",
      "\tlong position: 0.550, 16506\n",
      "\tshort position: 0.905, 27152\n",
      "002807.SZ: price: 3.970,\n",
      "\tlong position: 0.571, 7428\n",
      "\tshort position: 0.912, 11860\n",
      "600908.SH: price: 5.270,\n",
      "\tlong position: 0.524, 5236\n",
      "\tshort position: 0.893, 8934\n",
      "512010.SH: price: 0.478,\n",
      "\tlong position: 0.837, 83683\n",
      "\tshort position: 0.974, 97351\n"
     ]
    }
   ],
   "source": [
    "choices = [zz1000, kc50, gqhl, jyyh, wxyh, yyetf]\n",
    "max_pos = [20000, 50000, 30000, 13000, 10000, 100000]\n",
    "prices  = [2.507, 1.003, 1.895, 3.970, 5.270, 0.478]\n",
    "for choice, price, m_pos in zip(choices, prices, max_pos):\n",
    "    long_pos = choice.cal_position(price, True)\n",
    "    short_pos = choice.cal_position(price, False)\n",
    "    print(f\"{choice.code}: price: {price:.3f},\\n\\t\"\n",
    "          f\"long position: {long_pos:.3f}, {long_pos * m_pos:.0f}\\n\\t\"\n",
    "          f\"short position: {short_pos:.3f}, {short_pos * m_pos:.0f}\")\n"
   ]
  },
  {
   "cell_type": "markdown",
   "id": "2ffd5006-d1fe-4757-8cf1-49311ee53188",
   "metadata": {
    "tags": []
   },
   "source": [
    "## set KDJ risk parameter"
   ]
  },
  {
   "cell_type": "code",
   "execution_count": 4,
   "id": "bce97c8a-c85f-4f21-a5ba-88f58cbe0b98",
   "metadata": {},
   "outputs": [
    {
     "name": "stdout",
     "output_type": "stream",
     "text": [
      "512100.SH: price: 2.507,\n",
      "\trisk level: 风险平衡\n",
      "\tbuy sell contrast and diff: (0.03, 0.03, 0.03, 0.03)\n",
      "588000.SH: price: 1.003,\n",
      "\trisk level: 风险平衡\n",
      "\tbuy sell contrast and diff: (0.03, 0.03, 0.03, 0.03)\n",
      "501059.SH: price: 1.895,\n",
      "\trisk level: 风险平衡\n",
      "\tbuy sell contrast and diff: (0.03, 0.03, 0.03, 0.03)\n",
      "002807.SZ: price: 3.970,\n",
      "\trisk level: 风险平衡\n",
      "\tbuy sell contrast and diff: (0.03, 0.03, 0.03, 0.03)\n",
      "600908.SH: price: 5.270,\n",
      "\trisk level: 风险平衡\n",
      "\tbuy sell contrast and diff: (0.03, 0.03, 0.03, 0.03)\n",
      "512010.SH: price: 0.478,\n",
      "\trisk level: 很大机会\n",
      "\tbuy sell contrast and diff: (0.03, 0.02, 0.04, 0.03)\n"
     ]
    }
   ],
   "source": [
    "kdj_d_month = [52, 30, 54, 48, 42, 21]\n",
    "kdj_d_week  = [52, 44, 54, 35, 37, 64]\n",
    "for choice, d_month, d_week, price in zip(choices, kdj_d_month, kdj_d_week, prices):\n",
    "    risk_density = choice.cal_risk_and_grid_density(d_month, d_week)\n",
    "    print(f\"{choice.code}: price: {price:.3f},\\n\\t\"\n",
    "          f\"risk level: {risk_density[0]}\\n\\t\"\n",
    "          f\"buy sell contrast and diff: {risk_density[1:]}\")"
   ]
  },
  {
   "cell_type": "markdown",
   "id": "dbe167a7-85a7-48f0-bad1-5f96965e49bf",
   "metadata": {},
   "source": [
    "## buy/sell number per trade\n",
    "\n",
    "#### 1. standard situation\n",
    "set 1/40=2.5%\n",
    "\n",
    "if trade while 3% decrease with 1/40 = 2.5% position, \n",
    "from top 100% price to bottom 50% price, we should trade about 23 times(0.97^23=0.51), we get 23*2.5% = 57.5% position\n",
    "\n",
    "that seems ok because KDJ will hint us and the buy diff will decrease from 3% to 1%.\n",
    "\n",
    "if trade every 1%, trade will happen about 68 times(0.99^68=0.50)\n",
    "\n",
    "#### 2. scaled situation\n",
    "set 1/40*scale=2.5%*scale, scale=ln(0.5)/ln(bottom_price)\n",
    "\n",
    "from top 100% price to bottom 68% price, 3% diff will trade about 13 times($0.97^{13}=0.67$), we get $13*2.5% = 32.5%$ position; 1% diff will trade about 38 times($0.99^38=0.68$), we get $38*2.5%=95.0%$ position.\n",
    "\n",
    "price range decreased $64%=(1-0.68)/(1-0.5)$\n",
    "trade number decreased $43%=(23-13)/23$ and $44%=(68-38)/68$\n",
    "\n",
    "To get similar position, we should trade more: \n",
    "trade number should increased: $77%=(23-13)/13$ and $79%=(68-38)/38$\n",
    "\n",
    "summerize the theoretical formula:\n",
    "- $0.97^{times_{standard}} = 0.5$\n",
    "- $0.97^times_scaled   = bottom_price$\n",
    "- $scale = times_standard / times_scaled$\n",
    "\n",
    "so, we get:\n",
    "- $ln(0.97) * times_standard = ln(0.5)$\n",
    "- $ln(0.97) * times_scaled   = ln(bottom_price)$\n",
    "- $scale = ln(0.5) / ln(bottom_price)$\n",
    "\n",
    "for bottom_price = 0.68, $scale = ln(0.5) / ln(0.68) = 1.80$, consistent with the above calculation 77% and 79%."
   ]
  },
  {
   "cell_type": "code",
   "execution_count": 5,
   "id": "5ea02732-fc29-4eb8-9eac-23acf6887fad",
   "metadata": {},
   "outputs": [
    {
     "name": "stdout",
     "output_type": "stream",
     "text": [
      "512100.SH: price: 0.478,\n",
      "\tnumber_per_trade: 772\n",
      "588000.SH: price: 0.478,\n",
      "\tnumber_per_trade: 1250\n",
      "501059.SH: price: 0.478,\n",
      "\tnumber_per_trade: 2647\n",
      "002807.SZ: price: 0.478,\n",
      "\tnumber_per_trade: 589\n",
      "600908.SH: price: 0.478,\n",
      "\tnumber_per_trade: 449\n",
      "512010.SH: price: 0.478,\n",
      "\tnumber_per_trade: 2504\n"
     ]
    }
   ],
   "source": [
    "for choice in choices:\n",
    "    num_per_trade = choice.cal_pos_number_per_trade()\n",
    "    print(f\"{choice.code}: price: {price:.3f},\\n\\t\"\n",
    "          f\"number_per_trade: {num_per_trade:.0f}\")"
   ]
  },
  {
   "cell_type": "code",
   "execution_count": null,
   "id": "52184bcd-3df6-47a8-82c7-359c26a8a417",
   "metadata": {},
   "outputs": [],
   "source": []
  }
 ],
 "metadata": {
  "kernelspec": {
   "display_name": "Python 3 (ipykernel)",
   "language": "python",
   "name": "python3"
  },
  "language_info": {
   "codemirror_mode": {
    "name": "ipython",
    "version": 3
   },
   "file_extension": ".py",
   "mimetype": "text/x-python",
   "name": "python",
   "nbconvert_exporter": "python",
   "pygments_lexer": "ipython3",
   "version": "3.9.13"
  }
 },
 "nbformat": 4,
 "nbformat_minor": 5
}
